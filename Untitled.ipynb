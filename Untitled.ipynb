{
 "cells": [
  {
   "cell_type": "code",
   "execution_count": 124,
   "metadata": {},
   "outputs": [],
   "source": [
    "import pandas as pd\n",
    "from  sklearn import datasets\n",
    "from sklearn.model_selection import train_test_split"
   ]
  },
  {
   "cell_type": "code",
   "execution_count": 125,
   "metadata": {},
   "outputs": [],
   "source": [
    "train = 'train.json'"
   ]
  },
  {
   "cell_type": "code",
   "execution_count": 126,
   "metadata": {},
   "outputs": [],
   "source": [
    "df = pd.read_json('train.json')"
   ]
  },
  {
   "cell_type": "code",
   "execution_count": 127,
   "metadata": {},
   "outputs": [
    {
     "data": {
      "text/html": [
       "<div>\n",
       "<style scoped>\n",
       "    .dataframe tbody tr th:only-of-type {\n",
       "        vertical-align: middle;\n",
       "    }\n",
       "\n",
       "    .dataframe tbody tr th {\n",
       "        vertical-align: top;\n",
       "    }\n",
       "\n",
       "    .dataframe thead th {\n",
       "        text-align: right;\n",
       "    }\n",
       "</style>\n",
       "<table border=\"1\" class=\"dataframe\">\n",
       "  <thead>\n",
       "    <tr style=\"text-align: right;\">\n",
       "      <th></th>\n",
       "      <th>cuisine</th>\n",
       "      <th>id</th>\n",
       "      <th>ingredients</th>\n",
       "    </tr>\n",
       "  </thead>\n",
       "  <tbody>\n",
       "    <tr>\n",
       "      <th>0</th>\n",
       "      <td>greek</td>\n",
       "      <td>10259</td>\n",
       "      <td>[romaine lettuce, black olives, grape tomatoes...</td>\n",
       "    </tr>\n",
       "    <tr>\n",
       "      <th>1</th>\n",
       "      <td>southern_us</td>\n",
       "      <td>25693</td>\n",
       "      <td>[plain flour, ground pepper, salt, tomatoes, g...</td>\n",
       "    </tr>\n",
       "    <tr>\n",
       "      <th>2</th>\n",
       "      <td>filipino</td>\n",
       "      <td>20130</td>\n",
       "      <td>[eggs, pepper, salt, mayonaise, cooking oil, g...</td>\n",
       "    </tr>\n",
       "    <tr>\n",
       "      <th>3</th>\n",
       "      <td>indian</td>\n",
       "      <td>22213</td>\n",
       "      <td>[water, vegetable oil, wheat, salt]</td>\n",
       "    </tr>\n",
       "    <tr>\n",
       "      <th>4</th>\n",
       "      <td>indian</td>\n",
       "      <td>13162</td>\n",
       "      <td>[black pepper, shallots, cornflour, cayenne pe...</td>\n",
       "    </tr>\n",
       "  </tbody>\n",
       "</table>\n",
       "</div>"
      ],
      "text/plain": [
       "       cuisine     id                                        ingredients\n",
       "0        greek  10259  [romaine lettuce, black olives, grape tomatoes...\n",
       "1  southern_us  25693  [plain flour, ground pepper, salt, tomatoes, g...\n",
       "2     filipino  20130  [eggs, pepper, salt, mayonaise, cooking oil, g...\n",
       "3       indian  22213                [water, vegetable oil, wheat, salt]\n",
       "4       indian  13162  [black pepper, shallots, cornflour, cayenne pe..."
      ]
     },
     "execution_count": 127,
     "metadata": {},
     "output_type": "execute_result"
    }
   ],
   "source": [
    "df.head()"
   ]
  },
  {
   "cell_type": "code",
   "execution_count": 128,
   "metadata": {},
   "outputs": [],
   "source": [
    "from sklearn.preprocessing import LabelEncoder\n",
    "encoder = LabelEncoder()"
   ]
  },
  {
   "cell_type": "code",
   "execution_count": 129,
   "metadata": {},
   "outputs": [
    {
     "data": {
      "text/plain": [
       "array(['greek', 'southern_us', 'filipino', 'indian', 'jamaican',\n",
       "       'spanish', 'italian', 'mexican', 'chinese', 'british', 'thai',\n",
       "       'vietnamese', 'cajun_creole', 'brazilian', 'french', 'japanese',\n",
       "       'irish', 'korean', 'moroccan', 'russian'], dtype=object)"
      ]
     },
     "execution_count": 129,
     "metadata": {},
     "output_type": "execute_result"
    }
   ],
   "source": [
    "df[df.columns[0]].unique()"
   ]
  },
  {
   "cell_type": "code",
   "execution_count": 130,
   "metadata": {},
   "outputs": [
    {
     "data": {
      "text/plain": [
       "['romaine lettuce',\n",
       " 'black olives',\n",
       " 'grape tomatoes',\n",
       " 'garlic',\n",
       " 'pepper',\n",
       " 'purple onion',\n",
       " 'seasoning',\n",
       " 'garbanzo beans',\n",
       " 'feta cheese crumbles']"
      ]
     },
     "execution_count": 130,
     "metadata": {},
     "output_type": "execute_result"
    }
   ],
   "source": [
    "df[df.columns[-1]][0]"
   ]
  },
  {
   "cell_type": "code",
   "execution_count": 131,
   "metadata": {},
   "outputs": [],
   "source": [
    "objs = [df, pd.DataFrame(df['ingredients'].tolist())]"
   ]
  },
  {
   "cell_type": "code",
   "execution_count": 132,
   "metadata": {},
   "outputs": [
    {
     "data": {
      "text/plain": [
       "<function list.count(value, /)>"
      ]
     },
     "execution_count": 132,
     "metadata": {},
     "output_type": "execute_result"
    }
   ],
   "source": [
    "objs.count"
   ]
  },
  {
   "cell_type": "code",
   "execution_count": 133,
   "metadata": {},
   "outputs": [
    {
     "data": {
      "text/plain": [
       "[            cuisine     id                                        ingredients\n",
       " 0             greek  10259  [romaine lettuce, black olives, grape tomatoes...\n",
       " 1       southern_us  25693  [plain flour, ground pepper, salt, tomatoes, g...\n",
       " 2          filipino  20130  [eggs, pepper, salt, mayonaise, cooking oil, g...\n",
       " 3            indian  22213                [water, vegetable oil, wheat, salt]\n",
       " 4            indian  13162  [black pepper, shallots, cornflour, cayenne pe...\n",
       " 5          jamaican   6602  [plain flour, sugar, butter, eggs, fresh ginge...\n",
       " 6           spanish  42779  [olive oil, salt, medium shrimp, pepper, garli...\n",
       " 7           italian   3735  [sugar, pistachio nuts, white almond bark, flo...\n",
       " 8           mexican  16903  [olive oil, purple onion, fresh pineapple, por...\n",
       " 9           italian  12734  [chopped tomatoes, fresh basil, garlic, extra-...\n",
       " 10          italian   5875  [pimentos, sweet pepper, dried oregano, olive ...\n",
       " 11          chinese  45887  [low sodium soy sauce, fresh ginger, dry musta...\n",
       " 12          italian   2698  [Italian parsley leaves, walnuts, hot red pepp...\n",
       " 13          mexican  41995  [ground cinnamon, fresh cilantro, chili powder...\n",
       " 14          italian  31908  [fresh parmesan cheese, butter, all-purpose fl...\n",
       " 15           indian  24717  [tumeric, vegetable stock, tomatoes, garam mas...\n",
       " 16          british  34466  [greek yogurt, lemon curd, confectioners sugar...\n",
       " 17          italian   1420  [italian seasoning, broiler-fryer chicken, may...\n",
       " 18             thai   2941   [sugar, hot chili, asian fish sauce, lime juice]\n",
       " 19       vietnamese   8152  [soy sauce, vegetable oil, red bell pepper, ch...\n",
       " 20             thai  13121  [pork loin, roasted peanuts, chopped cilantro ...\n",
       " 21          mexican  40523  [roma tomatoes, kosher salt, purple onion, jal...\n",
       " 22      southern_us  40989  [low-fat mayonnaise, pepper, salt, baking pota...\n",
       " 23          chinese  29630  [sesame seeds, red pepper, yellow peppers, wat...\n",
       " 24          italian  49136  [marinara sauce, flat leaf parsley, olive oil,...\n",
       " 25          chinese  26705  [sugar, lo mein noodles, salt, chicken broth, ...\n",
       " 26     cajun_creole  27976  [herbs, lemon juice, fresh tomatoes, paprika, ...\n",
       " 27          italian  22087  [ground black pepper, butter, sliced mushrooms...\n",
       " 28          chinese   9197  [green bell pepper, egg roll wrappers, sweet a...\n",
       " 29          mexican   1299  [flour tortillas, cheese, breakfast sausages, ...\n",
       " ...             ...    ...                                                ...\n",
       " 39744         greek   5680  [extra-virgin olive oil, oregano, potatoes, ga...\n",
       " 39745       spanish   5511  [quinoa, extra-virgin olive oil, fresh thyme l...\n",
       " 39746        indian  32051  [clove, bay leaves, ginger, chopped cilantro, ...\n",
       " 39747      moroccan   5119  [water, sugar, grated lemon zest, butter, pitt...\n",
       " 39748       italian   9526  [sea salt, pizza doughs, all-purpose flour, co...\n",
       " 39749       mexican  45599  [kosher salt, minced onion, tortilla chips, su...\n",
       " 39750       mexican  49670  [ground black pepper, chicken breasts, salsa, ...\n",
       " 39751      moroccan  30735  [olive oil, cayenne pepper, chopped cilantro f...\n",
       " 39752   southern_us   5911  [self rising flour, milk, white sugar, butter,...\n",
       " 39753       italian  33294  [rosemary sprigs, lemon zest, garlic cloves, g...\n",
       " 39754    vietnamese  27082  [jasmine rice, bay leaves, sticky rice, rotiss...\n",
       " 39755        indian  36337  [mint leaves, cilantro leaves, ghee, tomatoes,...\n",
       " 39756       mexican  15508  [vegetable oil, cinnamon sticks, water, all-pu...\n",
       " 39757         greek  34331  [red bell pepper, garlic cloves, extra-virgin ...\n",
       " 39758         greek  47387  [milk, salt, ground cayenne pepper, ground lam...\n",
       " 39759        korean  12153  [red chili peppers, sea salt, onions, water, c...\n",
       " 39760   southern_us  41840  [butter, large eggs, cornmeal, baking powder, ...\n",
       " 39761       chinese   6487  [honey, chicken breast halves, cilantro leaves...\n",
       " 39762        indian  26646  [curry powder, salt, chicken, water, vegetable...\n",
       " 39763       italian  44798  [fettuccine pasta, low-fat cream cheese, garli...\n",
       " 39764       mexican   8089  [chili powder, worcestershire sauce, celery, r...\n",
       " 39765        indian   6153  [coconut, unsweetened coconut milk, mint leave...\n",
       " 39766         irish  25557  [rutabaga, ham, thick-cut bacon, potatoes, fre...\n",
       " 39767       italian  24348  [low-fat sour cream, grated parmesan cheese, s...\n",
       " 39768       mexican   7377  [shredded cheddar cheese, crushed cheese crack...\n",
       " 39769         irish  29109  [light brown sugar, granulated sugar, butter, ...\n",
       " 39770       italian  11462  [KRAFT Zesty Italian Dressing, purple onion, b...\n",
       " 39771         irish   2238  [eggs, citrus fruit, raisins, sourdough starte...\n",
       " 39772       chinese  41882  [boneless chicken skinless thigh, minced garli...\n",
       " 39773       mexican   2362  [green chile, jalapeno chilies, onions, ground...\n",
       " \n",
       " [39774 rows x 3 columns],\n",
       "                                     0                         1   \\\n",
       " 0                      romaine lettuce              black olives   \n",
       " 1                          plain flour             ground pepper   \n",
       " 2                                 eggs                    pepper   \n",
       " 3                                water             vegetable oil   \n",
       " 4                         black pepper                  shallots   \n",
       " 5                          plain flour                     sugar   \n",
       " 6                            olive oil                      salt   \n",
       " 7                                sugar            pistachio nuts   \n",
       " 8                            olive oil              purple onion   \n",
       " 9                     chopped tomatoes               fresh basil   \n",
       " 10                            pimentos              sweet pepper   \n",
       " 11                low sodium soy sauce              fresh ginger   \n",
       " 12              Italian parsley leaves                   walnuts   \n",
       " 13                     ground cinnamon            fresh cilantro   \n",
       " 14               fresh parmesan cheese                    butter   \n",
       " 15                             tumeric           vegetable stock   \n",
       " 16                        greek yogurt                lemon curd   \n",
       " 17                   italian seasoning     broiler-fryer chicken   \n",
       " 18                               sugar                 hot chili   \n",
       " 19                           soy sauce             vegetable oil   \n",
       " 20                           pork loin           roasted peanuts   \n",
       " 21                       roma tomatoes               kosher salt   \n",
       " 22                  low-fat mayonnaise                    pepper   \n",
       " 23                        sesame seeds                red pepper   \n",
       " 24                      marinara sauce         flat leaf parsley   \n",
       " 25                               sugar           lo mein noodles   \n",
       " 26                               herbs               lemon juice   \n",
       " 27                 ground black pepper                    butter   \n",
       " 28                   green bell pepper         egg roll wrappers   \n",
       " 29                     flour tortillas                    cheese   \n",
       " ...                                ...                       ...   \n",
       " 39744           extra-virgin olive oil                   oregano   \n",
       " 39745                           quinoa    extra-virgin olive oil   \n",
       " 39746                            clove                bay leaves   \n",
       " 39747                            water                     sugar   \n",
       " 39748                         sea salt              pizza doughs   \n",
       " 39749                      kosher salt              minced onion   \n",
       " 39750              ground black pepper           chicken breasts   \n",
       " 39751                        olive oil            cayenne pepper   \n",
       " 39752                self rising flour                      milk   \n",
       " 39753                  rosemary sprigs                lemon zest   \n",
       " 39754                     jasmine rice                bay leaves   \n",
       " 39755                      mint leaves           cilantro leaves   \n",
       " 39756                    vegetable oil           cinnamon sticks   \n",
       " 39757                  red bell pepper             garlic cloves   \n",
       " 39758                             milk                      salt   \n",
       " 39759                red chili peppers                  sea salt   \n",
       " 39760                           butter                large eggs   \n",
       " 39761                            honey     chicken breast halves   \n",
       " 39762                     curry powder                      salt   \n",
       " 39763                 fettuccine pasta      low-fat cream cheese   \n",
       " 39764                     chili powder      worcestershire sauce   \n",
       " 39765                          coconut  unsweetened coconut milk   \n",
       " 39766                         rutabaga                       ham   \n",
       " 39767               low-fat sour cream    grated parmesan cheese   \n",
       " 39768          shredded cheddar cheese   crushed cheese crackers   \n",
       " 39769                light brown sugar          granulated sugar   \n",
       " 39770     KRAFT Zesty Italian Dressing              purple onion   \n",
       " 39771                             eggs              citrus fruit   \n",
       " 39772  boneless chicken skinless thigh             minced garlic   \n",
       " 39773                      green chile          jalapeno chilies   \n",
       " \n",
       "                            2                                   3   \\\n",
       " 0              grape tomatoes                              garlic   \n",
       " 1                        salt                            tomatoes   \n",
       " 2                        salt                           mayonaise   \n",
       " 3                       wheat                                salt   \n",
       " 4                   cornflour                      cayenne pepper   \n",
       " 5                      butter                                eggs   \n",
       " 6               medium shrimp                              pepper   \n",
       " 7           white almond bark                               flour   \n",
       " 8             fresh pineapple                                pork   \n",
       " 9                      garlic              extra-virgin olive oil   \n",
       " 10              dried oregano                           olive oil   \n",
       " 11                dry mustard                         green beans   \n",
       " 12      hot red pepper flakes              extra-virgin olive oil   \n",
       " 13               chili powder                    ground coriander   \n",
       " 14          all-purpose flour  fat free less sodium chicken broth   \n",
       " 15                   tomatoes                        garam masala   \n",
       " 16        confectioners sugar                         raspberries   \n",
       " 17                  mayonaise              zesty italian dressing   \n",
       " 18           asian fish sauce                          lime juice   \n",
       " 19            red bell pepper                       chicken broth   \n",
       " 20     chopped cilantro fresh                        hoisin sauce   \n",
       " 21               purple onion                    jalapeno chilies   \n",
       " 22                       salt                     baking potatoes   \n",
       " 23             yellow peppers                               water   \n",
       " 24                  olive oil                            linguine   \n",
       " 25                       salt                       chicken broth   \n",
       " 26             fresh tomatoes                             paprika   \n",
       " 27           sliced mushrooms                              sherry   \n",
       " 28       sweet and sour sauce                         corn starch   \n",
       " 29         breakfast sausages                          large eggs   \n",
       " ...                       ...                                 ...   \n",
       " 39744                potatoes                       garlic cloves   \n",
       " 39745      fresh thyme leaves                     scallion greens   \n",
       " 39746                  ginger                    chopped cilantro   \n",
       " 39747       grated lemon zest                              butter   \n",
       " 39748       all-purpose flour                            cornmeal   \n",
       " 39749          tortilla chips                               sugar   \n",
       " 39750                   salsa                      cheddar cheese   \n",
       " 39751  chopped cilantro fresh     boneless chicken skinless thigh   \n",
       " 39752             white sugar                              butter   \n",
       " 39753           garlic cloves                 ground black pepper   \n",
       " 39754             sticky rice                  rotisserie chicken   \n",
       " 39755                    ghee                            tomatoes   \n",
       " 39756                   water                   all-purpose flour   \n",
       " 39757  extra-virgin olive oil                feta cheese crumbles   \n",
       " 39758   ground cayenne pepper                         ground lamb   \n",
       " 39759                  onions                               water   \n",
       " 39760                cornmeal                       baking powder   \n",
       " 39761         cilantro leaves                             carrots   \n",
       " 39762                 chicken                               water   \n",
       " 39763                  garlic              nonfat evaporated milk   \n",
       " 39764                  celery                    red kidney beans   \n",
       " 39765             mint leaves                        plain yogurt   \n",
       " 39766         thick-cut bacon                            potatoes   \n",
       " 39767                    salt                       dried oregano   \n",
       " 39768     cheddar cheese soup               cream of chicken soup   \n",
       " 39769                  butter                          warm water   \n",
       " 39770        broccoli florets                              rotini   \n",
       " 39771                 raisins                   sourdough starter   \n",
       " 39772      steamed white rice                       baking powder   \n",
       " 39773                  onions                 ground black pepper   \n",
       " \n",
       "                            4                             5   \\\n",
       " 0                      pepper                  purple onion   \n",
       " 1         ground black pepper                         thyme   \n",
       " 2                 cooking oil                 green chilies   \n",
       " 3                        None                          None   \n",
       " 4                      onions                  garlic paste   \n",
       " 5           fresh ginger root                          salt   \n",
       " 6                      garlic              chopped cilantro   \n",
       " 7             vanilla extract                     olive oil   \n",
       " 8             poblano peppers                corn tortillas   \n",
       " 9                 kosher salt             flat leaf parsley   \n",
       " 10                     garlic          sharp cheddar cheese   \n",
       " 11               white pepper                    sesame oil   \n",
       " 12          fresh lemon juice                  trout fillet   \n",
       " 13                kosher salt           ground black pepper   \n",
       " 14       chopped fresh chives                gruyere cheese   \n",
       " 15                       naan                   red lentils   \n",
       " 16                       None                          None   \n",
       " 17                       None                          None   \n",
       " 18                       None                          None   \n",
       " 19              yellow squash            garlic chili sauce   \n",
       " 20       creamy peanut butter            chopped fresh mint   \n",
       " 21                       lime              chopped cilantro   \n",
       " 22                       eggs           spicy brown mustard   \n",
       " 23            extra firm tofu                      broccoli   \n",
       " 24                     capers     crushed red pepper flakes   \n",
       " 25            light soy sauce                   flank steak   \n",
       " 26                      mango                         stock   \n",
       " 27                       salt        grated parmesan cheese   \n",
       " 28                   molasses                 vegetable oil   \n",
       " 29                       None                          None   \n",
       " ...                       ...                           ...   \n",
       " 39744                  pepper                          salt   \n",
       " 39745                    None                          None   \n",
       " 39746         ground turmeric                   white onion   \n",
       " 39747             pitted date              blanched almonds   \n",
       " 39748  extra-virgin olive oil    shredded mozzarella cheese   \n",
       " 39749            tomato juice               cilantro leaves   \n",
       " 39750             pepper jack                   heavy cream   \n",
       " 39751           fine sea salt        low salt chicken broth   \n",
       " 39752  peaches in light syrup                          None   \n",
       " 39753         vegetable broth            fresh basil leaves   \n",
       " 39754        chopped cilantro                    large eggs   \n",
       " 39755                cinnamon                           oil   \n",
       " 39756              piloncillo                          salt   \n",
       " 39757                    None                          None   \n",
       " 39758         ground cinnamon           ground black pepper   \n",
       " 39759       chilli bean sauce                  caster sugar   \n",
       " 39760           boiling water                          milk   \n",
       " 39761               soy sauce                      Sriracha   \n",
       " 39762           vegetable oil                  basmati rice   \n",
       " 39763  grated parmesan cheese                   corn starch   \n",
       " 39764        lean ground beef               stewed tomatoes   \n",
       " 39765                    None                          None   \n",
       " 39766           fresh parsley                          salt   \n",
       " 39767  low-fat cottage cheese                        butter   \n",
       " 39768               hot sauce           diced green chilies   \n",
       " 39769              large eggs             all-purpose flour   \n",
       " 39770     pitted black olives  Kraft Grated Parmesan Cheese   \n",
       " 39771                   flour                       hot tea   \n",
       " 39772             corn starch                dark soy sauce   \n",
       " 39773                    salt        chopped cilantro fresh   \n",
       " \n",
       "                             6                       7                     8   \\\n",
       " 0                    seasoning          garbanzo beans  feta cheese crumbles   \n",
       " 1                         eggs          green tomatoes      yellow corn meal   \n",
       " 2      grilled chicken breasts           garlic powder          yellow onion   \n",
       " 3                         None                    None                  None   \n",
       " 4                         milk                  butter                  salt   \n",
       " 5              ground cinnamon                    milk       vanilla extract   \n",
       " 6             jalapeno chilies       flat leaf parsley           skirt steak   \n",
       " 7               almond extract                    eggs         baking powder   \n",
       " 8               cheddar cheese     ground black pepper                  salt   \n",
       " 9                         None                    None                  None   \n",
       " 10                      pepper            swiss cheese      provolone cheese   \n",
       " 11                   scallions              canola oil                 sugar   \n",
       " 12               garlic cloves          chipotle chile         fine sea salt   \n",
       " 13                      garlic           plum tomatoes               avocado   \n",
       " 14         ground black pepper            bacon slices               gnocchi   \n",
       " 15           red chili peppers                  onions               spinach   \n",
       " 16                        None                    None                  None   \n",
       " 17                        None                    None                  None   \n",
       " 18                        None                    None                  None   \n",
       " 19         sliced green onions              broccolini                  salt   \n",
       " 20                  thai basil                    rice         medium shrimp   \n",
       " 21                        None                    None                  None   \n",
       " 22                        None                    None                  None   \n",
       " 23                   soy sauce      orange bell pepper      arrowroot powder   \n",
       " 24                      olives              lemon zest                garlic   \n",
       " 25                 beansprouts   dried black mushrooms                pepper   \n",
       " 26                chile pepper                  onions     red chili peppers   \n",
       " 27                 heavy cream               spaghetti         chicken broth   \n",
       " 28                         oil               soy sauce      shredded cabbage   \n",
       " 29                        None                    None                  None   \n",
       " ...                        ...                     ...                   ...   \n",
       " 39744           yellow mustard       fresh lemon juice                  None   \n",
       " 39745                     None                    None                  None   \n",
       " 39746                 cinnamon           cardamom pods         serrano chile   \n",
       " 39747                     None                    None                  None   \n",
       " 39748              kosher salt                 ricotta                  None   \n",
       " 39749                  avocado              lime juice         roma tomatoes   \n",
       " 39750      red enchilada sauce         unsalted butter          chili powder   \n",
       " 39751              fennel bulb       fresh lemon juice          ground cumin   \n",
       " 39752                     None                    None                  None   \n",
       " 39753            minced garlic  extra-virgin olive oil          thyme sprigs   \n",
       " 39754            vegetable oil            yellow onion           beansprouts   \n",
       " 39755             basmati rice            garlic paste                  salt   \n",
       " 39756              orange zest           baking powder             hot water   \n",
       " 39757                     None                    None                  None   \n",
       " 39758              pomegranate      chopped fresh mint                 pitas   \n",
       " 39759                   garlic           white vinegar             chili oil   \n",
       " 39760                     salt                    None                  None   \n",
       " 39761          wonton wrappers   freshly ground pepper           beansprouts   \n",
       " 39762                     eggs    finely chopped onion           lemon juice   \n",
       " 39763              nonfat milk                    None                  None   \n",
       " 39764            dried parsley                  pepper      red wine vinegar   \n",
       " 39765                     None                    None                  None   \n",
       " 39766                   onions                  pepper               carrots   \n",
       " 39767                   onions               olive oil  artichok heart marin   \n",
       " 39768                     salt                  pepper        cooked chicken   \n",
       " 39769        whole wheat flour           cooking spray         boiling water   \n",
       " 39770               red pepper                    None                  None   \n",
       " 39771                    sugar           ground nutmeg                  salt   \n",
       " 39772              kosher salt                 peanuts                 flour   \n",
       " 39773        green bell pepper                  garlic           white sugar   \n",
       " \n",
       "                           9   ...     55    56    57    58    59    60    61  \\\n",
       " 0                       None  ...   None  None  None  None  None  None  None   \n",
       " 1                       milk  ...   None  None  None  None  None  None  None   \n",
       " 2                  soy sauce  ...   None  None  None  None  None  None  None   \n",
       " 3                       None  ...   None  None  None  None  None  None  None   \n",
       " 4                lemon juice  ...   None  None  None  None  None  None  None   \n",
       " 5              ground ginger  ...   None  None  None  None  None  None  None   \n",
       " 6              white vinegar  ...   None  None  None  None  None  None  None   \n",
       " 7          dried cranberries  ...   None  None  None  None  None  None  None   \n",
       " 8            iceberg lettuce  ...   None  None  None  None  None  None  None   \n",
       " 9                       None  ...   None  None  None  None  None  None  None   \n",
       " 10                canola oil  ...   None  None  None  None  None  None  None   \n",
       " 11             Shaoxing wine  ...   None  None  None  None  None  None  None   \n",
       " 12         flat leaf parsley  ...   None  None  None  None  None  None  None   \n",
       " 13                lime juice  ...   None  None  None  None  None  None  None   \n",
       " 14             fat free milk  ...   None  None  None  None  None  None  None   \n",
       " 15            sweet potatoes  ...   None  None  None  None  None  None  None   \n",
       " 16                      None  ...   None  None  None  None  None  None  None   \n",
       " 17                      None  ...   None  None  None  None  None  None  None   \n",
       " 18                      None  ...   None  None  None  None  None  None  None   \n",
       " 19          fresh lime juice  ...   None  None  None  None  None  None  None   \n",
       " 20                     water  ...   None  None  None  None  None  None  None   \n",
       " 21                      None  ...   None  None  None  None  None  None  None   \n",
       " 22                      None  ...   None  None  None  None  None  None  None   \n",
       " 23              fresh ginger  ...   None  None  None  None  None  None  None   \n",
       " 24                      None  ...   None  None  None  None  None  None  None   \n",
       " 25                    chives  ...   None  None  None  None  None  None  None   \n",
       " 26                       oil  ...   None  None  None  None  None  None  None   \n",
       " 27            cooked chicken  ...   None  None  None  None  None  None  None   \n",
       " 28                    garlic  ...   None  None  None  None  None  None  None   \n",
       " 29                      None  ...   None  None  None  None  None  None  None   \n",
       " ...                      ...  ...    ...   ...   ...   ...   ...   ...   ...   \n",
       " 39744                   None  ...   None  None  None  None  None  None  None   \n",
       " 39745                   None  ...   None  None  None  None  None  None  None   \n",
       " 39746             canola oil  ...   None  None  None  None  None  None  None   \n",
       " 39747                   None  ...   None  None  None  None  None  None  None   \n",
       " 39748                   None  ...   None  None  None  None  None  None  None   \n",
       " 39749      Manzanilla olives  ...   None  None  None  None  None  None  None   \n",
       " 39750         tortilla chips  ...   None  None  None  None  None  None  None   \n",
       " 39751                paprika  ...   None  None  None  None  None  None  None   \n",
       " 39752                   None  ...   None  None  None  None  None  None  None   \n",
       " 39753             red potato  ...   None  None  None  None  None  None  None   \n",
       " 39754                   lime  ...   None  None  None  None  None  None  None   \n",
       " 39755           coconut milk  ...   None  None  None  None  None  None  None   \n",
       " 39756                   None  ...   None  None  None  None  None  None  None   \n",
       " 39757                   None  ...   None  None  None  None  None  None  None   \n",
       " 39758       ground coriander  ...   None  None  None  None  None  None  None   \n",
       " 39759               cucumber  ...   None  None  None  None  None  None  None   \n",
       " 39760                   None  ...   None  None  None  None  None  None  None   \n",
       " 39761           fresh ginger  ...   None  None  None  None  None  None  None   \n",
       " 39762                 pepper  ...   None  None  None  None  None  None  None   \n",
       " 39763                   None  ...   None  None  None  None  None  None  None   \n",
       " 39764                   salt  ...   None  None  None  None  None  None  None   \n",
       " 39765                   None  ...   None  None  None  None  None  None  None   \n",
       " 39766          pork sausages  ...   None  None  None  None  None  None  None   \n",
       " 39767  ground cayenne pepper  ...   None  None  None  None  None  None  None   \n",
       " 39768                 rotini  ...   None  None  None  None  None  None  None   \n",
       " 39769         steel-cut oats  ...   None  None  None  None  None  None  None   \n",
       " 39770                   None  ...   None  None  None  None  None  None  None   \n",
       " 39771        ground cinnamon  ...   None  None  None  None  None  None  None   \n",
       " 39772              scallions  ...   None  None  None  None  None  None  None   \n",
       " 39773          roma tomatoes  ...   None  None  None  None  None  None  None   \n",
       " \n",
       "          62    63    64  \n",
       " 0      None  None  None  \n",
       " 1      None  None  None  \n",
       " 2      None  None  None  \n",
       " 3      None  None  None  \n",
       " 4      None  None  None  \n",
       " 5      None  None  None  \n",
       " 6      None  None  None  \n",
       " 7      None  None  None  \n",
       " 8      None  None  None  \n",
       " 9      None  None  None  \n",
       " 10     None  None  None  \n",
       " 11     None  None  None  \n",
       " 12     None  None  None  \n",
       " 13     None  None  None  \n",
       " 14     None  None  None  \n",
       " 15     None  None  None  \n",
       " 16     None  None  None  \n",
       " 17     None  None  None  \n",
       " 18     None  None  None  \n",
       " 19     None  None  None  \n",
       " 20     None  None  None  \n",
       " 21     None  None  None  \n",
       " 22     None  None  None  \n",
       " 23     None  None  None  \n",
       " 24     None  None  None  \n",
       " 25     None  None  None  \n",
       " 26     None  None  None  \n",
       " 27     None  None  None  \n",
       " 28     None  None  None  \n",
       " 29     None  None  None  \n",
       " ...     ...   ...   ...  \n",
       " 39744  None  None  None  \n",
       " 39745  None  None  None  \n",
       " 39746  None  None  None  \n",
       " 39747  None  None  None  \n",
       " 39748  None  None  None  \n",
       " 39749  None  None  None  \n",
       " 39750  None  None  None  \n",
       " 39751  None  None  None  \n",
       " 39752  None  None  None  \n",
       " 39753  None  None  None  \n",
       " 39754  None  None  None  \n",
       " 39755  None  None  None  \n",
       " 39756  None  None  None  \n",
       " 39757  None  None  None  \n",
       " 39758  None  None  None  \n",
       " 39759  None  None  None  \n",
       " 39760  None  None  None  \n",
       " 39761  None  None  None  \n",
       " 39762  None  None  None  \n",
       " 39763  None  None  None  \n",
       " 39764  None  None  None  \n",
       " 39765  None  None  None  \n",
       " 39766  None  None  None  \n",
       " 39767  None  None  None  \n",
       " 39768  None  None  None  \n",
       " 39769  None  None  None  \n",
       " 39770  None  None  None  \n",
       " 39771  None  None  None  \n",
       " 39772  None  None  None  \n",
       " 39773  None  None  None  \n",
       " \n",
       " [39774 rows x 65 columns]]"
      ]
     },
     "execution_count": 133,
     "metadata": {},
     "output_type": "execute_result"
    }
   ],
   "source": [
    "objs"
   ]
  },
  {
   "cell_type": "code",
   "execution_count": 134,
   "metadata": {},
   "outputs": [],
   "source": [
    "s = df.apply(lambda x: pd.Series(x['ingredients']),axis=1).stack().reset_index(level=1, drop=True)\n"
   ]
  },
  {
   "cell_type": "code",
   "execution_count": 135,
   "metadata": {},
   "outputs": [],
   "source": [
    "#s.name = 'ingredient'"
   ]
  },
  {
   "cell_type": "code",
   "execution_count": 136,
   "metadata": {},
   "outputs": [],
   "source": [
    "#df.drop('ingredients', axis=1).join(s)"
   ]
  },
  {
   "cell_type": "code",
   "execution_count": 137,
   "metadata": {},
   "outputs": [
    {
     "data": {
      "text/plain": [
       "0                              romaine lettuce\n",
       "0                                 black olives\n",
       "0                               grape tomatoes\n",
       "0                                       garlic\n",
       "0                                       pepper\n",
       "0                                 purple onion\n",
       "0                                    seasoning\n",
       "0                               garbanzo beans\n",
       "0                         feta cheese crumbles\n",
       "1                                  plain flour\n",
       "1                                ground pepper\n",
       "1                                         salt\n",
       "1                                     tomatoes\n",
       "1                          ground black pepper\n",
       "1                                        thyme\n",
       "1                                         eggs\n",
       "1                               green tomatoes\n",
       "1                             yellow corn meal\n",
       "1                                         milk\n",
       "1                                vegetable oil\n",
       "2                                         eggs\n",
       "2                                       pepper\n",
       "2                                         salt\n",
       "2                                    mayonaise\n",
       "2                                  cooking oil\n",
       "2                                green chilies\n",
       "2                      grilled chicken breasts\n",
       "2                                garlic powder\n",
       "2                                 yellow onion\n",
       "2                                    soy sauce\n",
       "                         ...                  \n",
       "39772                            baking powder\n",
       "39772                              corn starch\n",
       "39772                           dark soy sauce\n",
       "39772                              kosher salt\n",
       "39772                                  peanuts\n",
       "39772                                    flour\n",
       "39772                                scallions\n",
       "39772                     Chinese rice vinegar\n",
       "39772                                    vodka\n",
       "39772                             fresh ginger\n",
       "39772                               egg whites\n",
       "39772                                 broccoli\n",
       "39772                     toasted sesame seeds\n",
       "39772                                    sugar\n",
       "39772    store bought low sodium chicken stock\n",
       "39772                              baking soda\n",
       "39772                            Shaoxing wine\n",
       "39772                                      oil\n",
       "39773                              green chile\n",
       "39773                         jalapeno chilies\n",
       "39773                                   onions\n",
       "39773                      ground black pepper\n",
       "39773                                     salt\n",
       "39773                   chopped cilantro fresh\n",
       "39773                        green bell pepper\n",
       "39773                                   garlic\n",
       "39773                              white sugar\n",
       "39773                            roma tomatoes\n",
       "39773                                   celery\n",
       "39773                            dried oregano\n",
       "Length: 428275, dtype: object"
      ]
     },
     "execution_count": 137,
     "metadata": {},
     "output_type": "execute_result"
    }
   ],
   "source": [
    "s"
   ]
  },
  {
   "cell_type": "code",
   "execution_count": 138,
   "metadata": {},
   "outputs": [
    {
     "data": {
      "text/plain": [
       "pandas.core.series.Series"
      ]
     },
     "execution_count": 138,
     "metadata": {},
     "output_type": "execute_result"
    }
   ],
   "source": [
    "type(s)"
   ]
  },
  {
   "cell_type": "code",
   "execution_count": 139,
   "metadata": {},
   "outputs": [
    {
     "data": {
      "text/plain": [
       "0         romaine lettuce\n",
       "0            black olives\n",
       "0          grape tomatoes\n",
       "0                  garlic\n",
       "0                  pepper\n",
       "0            purple onion\n",
       "0               seasoning\n",
       "0          garbanzo beans\n",
       "0    feta cheese crumbles\n",
       "dtype: object"
      ]
     },
     "execution_count": 139,
     "metadata": {},
     "output_type": "execute_result"
    }
   ],
   "source": [
    "s[0]"
   ]
  },
  {
   "cell_type": "code",
   "execution_count": 140,
   "metadata": {},
   "outputs": [
    {
     "data": {
      "text/plain": [
       "39773               green chile\n",
       "39773          jalapeno chilies\n",
       "39773                    onions\n",
       "39773       ground black pepper\n",
       "39773                      salt\n",
       "39773    chopped cilantro fresh\n",
       "39773         green bell pepper\n",
       "39773                    garlic\n",
       "39773               white sugar\n",
       "39773             roma tomatoes\n",
       "39773                    celery\n",
       "39773             dried oregano\n",
       "dtype: object"
      ]
     },
     "execution_count": 140,
     "metadata": {},
     "output_type": "execute_result"
    }
   ],
   "source": [
    "s[39773]"
   ]
  },
  {
   "cell_type": "code",
   "execution_count": 141,
   "metadata": {},
   "outputs": [
    {
     "ename": "KeyError",
     "evalue": "42779",
     "output_type": "error",
     "traceback": [
      "\u001b[0;31m---------------------------------------------------------------------------\u001b[0m",
      "\u001b[0;31mKeyError\u001b[0m                                  Traceback (most recent call last)",
      "\u001b[0;32m<ipython-input-141-8906b5f7fbde>\u001b[0m in \u001b[0;36m<module>\u001b[0;34m()\u001b[0m\n\u001b[1;32m      1\u001b[0m \u001b[0;32mfor\u001b[0m \u001b[0mindex\u001b[0m\u001b[0;34m,\u001b[0m \u001b[0mrow\u001b[0m \u001b[0;32min\u001b[0m \u001b[0mdf\u001b[0m\u001b[0;34m.\u001b[0m\u001b[0miterrows\u001b[0m\u001b[0;34m(\u001b[0m\u001b[0;34m)\u001b[0m\u001b[0;34m:\u001b[0m\u001b[0;34m\u001b[0m\u001b[0m\n\u001b[0;32m----> 2\u001b[0;31m     \u001b[0;32mfor\u001b[0m \u001b[0mx\u001b[0m \u001b[0;32min\u001b[0m \u001b[0ms\u001b[0m\u001b[0;34m[\u001b[0m\u001b[0mrow\u001b[0m\u001b[0;34m[\u001b[0m\u001b[0;34m'id'\u001b[0m\u001b[0;34m]\u001b[0m\u001b[0;34m]\u001b[0m\u001b[0;34m:\u001b[0m\u001b[0;34m\u001b[0m\u001b[0m\n\u001b[0m\u001b[1;32m      3\u001b[0m         \u001b[0mrow\u001b[0m\u001b[0;34m[\u001b[0m\u001b[0mx\u001b[0m\u001b[0;34m]\u001b[0m \u001b[0;34m=\u001b[0m \u001b[0;36m1\u001b[0m\u001b[0;34m\u001b[0m\u001b[0m\n\u001b[1;32m      4\u001b[0m \u001b[0;34m\u001b[0m\u001b[0m\n\u001b[1;32m      5\u001b[0m \u001b[0;34m\u001b[0m\u001b[0m\n",
      "\u001b[0;32m/anaconda3/lib/python3.7/site-packages/pandas/core/series.py\u001b[0m in \u001b[0;36m__getitem__\u001b[0;34m(self, key)\u001b[0m\n\u001b[1;32m    765\u001b[0m         \u001b[0mkey\u001b[0m \u001b[0;34m=\u001b[0m \u001b[0mcom\u001b[0m\u001b[0;34m.\u001b[0m\u001b[0m_apply_if_callable\u001b[0m\u001b[0;34m(\u001b[0m\u001b[0mkey\u001b[0m\u001b[0;34m,\u001b[0m \u001b[0mself\u001b[0m\u001b[0;34m)\u001b[0m\u001b[0;34m\u001b[0m\u001b[0m\n\u001b[1;32m    766\u001b[0m         \u001b[0;32mtry\u001b[0m\u001b[0;34m:\u001b[0m\u001b[0;34m\u001b[0m\u001b[0m\n\u001b[0;32m--> 767\u001b[0;31m             \u001b[0mresult\u001b[0m \u001b[0;34m=\u001b[0m \u001b[0mself\u001b[0m\u001b[0;34m.\u001b[0m\u001b[0mindex\u001b[0m\u001b[0;34m.\u001b[0m\u001b[0mget_value\u001b[0m\u001b[0;34m(\u001b[0m\u001b[0mself\u001b[0m\u001b[0;34m,\u001b[0m \u001b[0mkey\u001b[0m\u001b[0;34m)\u001b[0m\u001b[0;34m\u001b[0m\u001b[0m\n\u001b[0m\u001b[1;32m    768\u001b[0m \u001b[0;34m\u001b[0m\u001b[0m\n\u001b[1;32m    769\u001b[0m             \u001b[0;32mif\u001b[0m \u001b[0;32mnot\u001b[0m \u001b[0mis_scalar\u001b[0m\u001b[0;34m(\u001b[0m\u001b[0mresult\u001b[0m\u001b[0;34m)\u001b[0m\u001b[0;34m:\u001b[0m\u001b[0;34m\u001b[0m\u001b[0m\n",
      "\u001b[0;32m/anaconda3/lib/python3.7/site-packages/pandas/core/indexes/base.py\u001b[0m in \u001b[0;36mget_value\u001b[0;34m(self, series, key)\u001b[0m\n\u001b[1;32m   3116\u001b[0m         \u001b[0;32mtry\u001b[0m\u001b[0;34m:\u001b[0m\u001b[0;34m\u001b[0m\u001b[0m\n\u001b[1;32m   3117\u001b[0m             return self._engine.get_value(s, k,\n\u001b[0;32m-> 3118\u001b[0;31m                                           tz=getattr(series.dtype, 'tz', None))\n\u001b[0m\u001b[1;32m   3119\u001b[0m         \u001b[0;32mexcept\u001b[0m \u001b[0mKeyError\u001b[0m \u001b[0;32mas\u001b[0m \u001b[0me1\u001b[0m\u001b[0;34m:\u001b[0m\u001b[0;34m\u001b[0m\u001b[0m\n\u001b[1;32m   3120\u001b[0m             \u001b[0;32mif\u001b[0m \u001b[0mlen\u001b[0m\u001b[0;34m(\u001b[0m\u001b[0mself\u001b[0m\u001b[0;34m)\u001b[0m \u001b[0;34m>\u001b[0m \u001b[0;36m0\u001b[0m \u001b[0;32mand\u001b[0m \u001b[0mself\u001b[0m\u001b[0;34m.\u001b[0m\u001b[0minferred_type\u001b[0m \u001b[0;32min\u001b[0m \u001b[0;34m[\u001b[0m\u001b[0;34m'integer'\u001b[0m\u001b[0;34m,\u001b[0m \u001b[0;34m'boolean'\u001b[0m\u001b[0;34m]\u001b[0m\u001b[0;34m:\u001b[0m\u001b[0;34m\u001b[0m\u001b[0m\n",
      "\u001b[0;32mpandas/_libs/index.pyx\u001b[0m in \u001b[0;36mpandas._libs.index.IndexEngine.get_value\u001b[0;34m()\u001b[0m\n",
      "\u001b[0;32mpandas/_libs/index.pyx\u001b[0m in \u001b[0;36mpandas._libs.index.IndexEngine.get_value\u001b[0;34m()\u001b[0m\n",
      "\u001b[0;32mpandas/_libs/index.pyx\u001b[0m in \u001b[0;36mpandas._libs.index.IndexEngine.get_loc\u001b[0;34m()\u001b[0m\n",
      "\u001b[0;32mpandas/_libs/index.pyx\u001b[0m in \u001b[0;36mpandas._libs.index.IndexEngine._get_loc_duplicates\u001b[0;34m()\u001b[0m\n",
      "\u001b[0;31mKeyError\u001b[0m: 42779"
     ]
    }
   ],
   "source": [
    "for index, row in df.iterrows():\n",
    "    for x in s[row['id']]:\n",
    "        row[x] = 1\n",
    "    \n",
    "    \n",
    "    \n",
    "    "
   ]
  },
  {
   "cell_type": "code",
   "execution_count": null,
   "metadata": {},
   "outputs": [],
   "source": [
    "s[0].describe"
   ]
  },
  {
   "cell_type": "code",
   "execution_count": null,
   "metadata": {},
   "outputs": [],
   "source": [
    "s[1]"
   ]
  },
  {
   "cell_type": "code",
   "execution_count": null,
   "metadata": {},
   "outputs": [],
   "source": [
    "for x in s[1]:\n",
    "    print(x)"
   ]
  },
  {
   "cell_type": "code",
   "execution_count": null,
   "metadata": {},
   "outputs": [],
   "source": [
    "for index, row in df.iterrows():\n",
    "    print(row['id'])"
   ]
  },
  {
   "cell_type": "code",
   "execution_count": null,
   "metadata": {},
   "outputs": [],
   "source": [
    "s[46893]"
   ]
  },
  {
   "cell_type": "code",
   "execution_count": null,
   "metadata": {},
   "outputs": [],
   "source": [
    "s"
   ]
  },
  {
   "cell_type": "code",
   "execution_count": null,
   "metadata": {},
   "outputs": [],
   "source": [
    "s[0]"
   ]
  },
  {
   "cell_type": "code",
   "execution_count": null,
   "metadata": {},
   "outputs": [],
   "source": [
    "type(s[0])"
   ]
  },
  {
   "cell_type": "code",
   "execution_count": null,
   "metadata": {},
   "outputs": [],
   "source": [
    "s[s.columns[0]]"
   ]
  },
  {
   "cell_type": "code",
   "execution_count": null,
   "metadata": {},
   "outputs": [],
   "source": [
    "df.tail()"
   ]
  },
  {
   "cell_type": "code",
   "execution_count": 142,
   "metadata": {},
   "outputs": [
    {
     "data": {
      "text/plain": [
       "0        10259\n",
       "1        25693\n",
       "2        20130\n",
       "3        22213\n",
       "4        13162\n",
       "5         6602\n",
       "6        42779\n",
       "7         3735\n",
       "8        16903\n",
       "9        12734\n",
       "10        5875\n",
       "11       45887\n",
       "12        2698\n",
       "13       41995\n",
       "14       31908\n",
       "15       24717\n",
       "16       34466\n",
       "17        1420\n",
       "18        2941\n",
       "19        8152\n",
       "20       13121\n",
       "21       40523\n",
       "22       40989\n",
       "23       29630\n",
       "24       49136\n",
       "25       26705\n",
       "26       27976\n",
       "27       22087\n",
       "28        9197\n",
       "29        1299\n",
       "         ...  \n",
       "39744     5680\n",
       "39745     5511\n",
       "39746    32051\n",
       "39747     5119\n",
       "39748     9526\n",
       "39749    45599\n",
       "39750    49670\n",
       "39751    30735\n",
       "39752     5911\n",
       "39753    33294\n",
       "39754    27082\n",
       "39755    36337\n",
       "39756    15508\n",
       "39757    34331\n",
       "39758    47387\n",
       "39759    12153\n",
       "39760    41840\n",
       "39761     6487\n",
       "39762    26646\n",
       "39763    44798\n",
       "39764     8089\n",
       "39765     6153\n",
       "39766    25557\n",
       "39767    24348\n",
       "39768     7377\n",
       "39769    29109\n",
       "39770    11462\n",
       "39771     2238\n",
       "39772    41882\n",
       "39773     2362\n",
       "Name: id, Length: 39774, dtype: int64"
      ]
     },
     "execution_count": 142,
     "metadata": {},
     "output_type": "execute_result"
    }
   ],
   "source": [
    "df[df.columns[1]]"
   ]
  },
  {
   "cell_type": "code",
   "execution_count": 143,
   "metadata": {},
   "outputs": [
    {
     "data": {
      "text/html": [
       "<div>\n",
       "<style scoped>\n",
       "    .dataframe tbody tr th:only-of-type {\n",
       "        vertical-align: middle;\n",
       "    }\n",
       "\n",
       "    .dataframe tbody tr th {\n",
       "        vertical-align: top;\n",
       "    }\n",
       "\n",
       "    .dataframe thead th {\n",
       "        text-align: right;\n",
       "    }\n",
       "</style>\n",
       "<table border=\"1\" class=\"dataframe\">\n",
       "  <thead>\n",
       "    <tr style=\"text-align: right;\">\n",
       "      <th></th>\n",
       "      <th>cuisine</th>\n",
       "      <th>id</th>\n",
       "      <th>ingredients</th>\n",
       "    </tr>\n",
       "  </thead>\n",
       "  <tbody>\n",
       "    <tr>\n",
       "      <th>0</th>\n",
       "      <td>greek</td>\n",
       "      <td>10259</td>\n",
       "      <td>[romaine lettuce, black olives, grape tomatoes...</td>\n",
       "    </tr>\n",
       "    <tr>\n",
       "      <th>1</th>\n",
       "      <td>southern_us</td>\n",
       "      <td>25693</td>\n",
       "      <td>[plain flour, ground pepper, salt, tomatoes, g...</td>\n",
       "    </tr>\n",
       "    <tr>\n",
       "      <th>2</th>\n",
       "      <td>filipino</td>\n",
       "      <td>20130</td>\n",
       "      <td>[eggs, pepper, salt, mayonaise, cooking oil, g...</td>\n",
       "    </tr>\n",
       "    <tr>\n",
       "      <th>3</th>\n",
       "      <td>indian</td>\n",
       "      <td>22213</td>\n",
       "      <td>[water, vegetable oil, wheat, salt]</td>\n",
       "    </tr>\n",
       "    <tr>\n",
       "      <th>4</th>\n",
       "      <td>indian</td>\n",
       "      <td>13162</td>\n",
       "      <td>[black pepper, shallots, cornflour, cayenne pe...</td>\n",
       "    </tr>\n",
       "  </tbody>\n",
       "</table>\n",
       "</div>"
      ],
      "text/plain": [
       "       cuisine     id                                        ingredients\n",
       "0        greek  10259  [romaine lettuce, black olives, grape tomatoes...\n",
       "1  southern_us  25693  [plain flour, ground pepper, salt, tomatoes, g...\n",
       "2     filipino  20130  [eggs, pepper, salt, mayonaise, cooking oil, g...\n",
       "3       indian  22213                [water, vegetable oil, wheat, salt]\n",
       "4       indian  13162  [black pepper, shallots, cornflour, cayenne pe..."
      ]
     },
     "execution_count": 143,
     "metadata": {},
     "output_type": "execute_result"
    }
   ],
   "source": [
    "df.head()"
   ]
  },
  {
   "cell_type": "markdown",
   "metadata": {},
   "source": [
    "#### ----\n",
    "\n",
    "1. takeaways\n",
    "2. how do you feel for ML\n",
    "3. Next steps"
   ]
  },
  {
   "cell_type": "code",
   "execution_count": null,
   "metadata": {},
   "outputs": [],
   "source": []
  }
 ],
 "metadata": {
  "kernelspec": {
   "display_name": "Python 3",
   "language": "python",
   "name": "python3"
  },
  "language_info": {
   "codemirror_mode": {
    "name": "ipython",
    "version": 3
   },
   "file_extension": ".py",
   "mimetype": "text/x-python",
   "name": "python",
   "nbconvert_exporter": "python",
   "pygments_lexer": "ipython3",
   "version": "3.7.0"
  }
 },
 "nbformat": 4,
 "nbformat_minor": 2
}
